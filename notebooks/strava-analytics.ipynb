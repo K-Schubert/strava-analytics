{
 "cells": [
  {
   "cell_type": "code",
   "execution_count": 1,
   "id": "fb768a42",
   "metadata": {},
   "outputs": [],
   "source": [
    "import requests\n",
    "import pandas as pd\n",
    "import numpy as np\n",
    "import matplotlib.pyplot as plt\n",
    "import json\n",
    "import glob\n",
    "from datetime import datetime"
   ]
  },
  {
   "cell_type": "markdown",
   "id": "2e3ac2b2",
   "metadata": {},
   "source": [
    "# Oauth Strava"
   ]
  },
  {
   "cell_type": "code",
   "execution_count": 2,
   "id": "40d9db54",
   "metadata": {},
   "outputs": [],
   "source": [
    "client_id = '46152'\n",
    "client_secret = '3f800b5aff337ab123763877a4be1b1c5c8efeb8'"
   ]
  },
  {
   "cell_type": "code",
   "execution_count": null,
   "id": "ffe8612b",
   "metadata": {},
   "outputs": [],
   "source": [
    "#res = requests.post('https://www.strava.com/oauth/token?client_id=46152&client_secret=3f800b5aff337ab123763877a4be1b1c5c8efeb8&code=647e9db1b7c31c22b89a51a077e4c421e6b9d520&grant_type=authorization_code')\n",
    "#res.content      "
   ]
  },
  {
   "cell_type": "code",
   "execution_count": 3,
   "id": "90a2ff65",
   "metadata": {},
   "outputs": [],
   "source": [
    "access_token = 'f1343a318c5d2a29046855c28e8c0773e260dbc1'\n",
    "refresh_token = 'f84404ee972a0af214fbfaba842fe7ab5b9ccb07'"
   ]
  },
  {
   "cell_type": "code",
   "execution_count": 4,
   "id": "43a96545",
   "metadata": {},
   "outputs": [
    {
     "name": "stdout",
     "output_type": "stream",
     "text": [
      "Requesting Token...\n",
      "\n",
      "Access Token = 4e6973503564936893a39abe7b3b01569fb0016a\n",
      "\n"
     ]
    }
   ],
   "source": [
    "import urllib3\n",
    "urllib3.disable_warnings(urllib3.exceptions.InsecureRequestWarning)\n",
    "\n",
    "auth_url = \"https://www.strava.com/oauth/token\"\n",
    "activites_url = \"https://www.strava.com/api/v3/athlete/activities\"\n",
    "\n",
    "payload = {\n",
    "    'client_id': client_id,\n",
    "    'client_secret': client_secret,\n",
    "    'refresh_token': refresh_token,\n",
    "    'grant_type': \"refresh_token\",\n",
    "    'f': 'json'\n",
    "}\n",
    "\n",
    "print(\"Requesting Token...\\n\")\n",
    "res = requests.post(auth_url, data=payload, verify=False)\n",
    "access_token = res.json()['access_token']\n",
    "print(\"Access Token = {}\\n\".format(access_token))\n",
    "\n",
    "header = {'Authorization': 'Bearer ' + access_token}\n",
    "param = {'per_page': 200, 'page': 1}\n",
    "dataset = requests.get(activites_url, headers=header, params=param).json()"
   ]
  },
  {
   "cell_type": "markdown",
   "id": "656b069a",
   "metadata": {},
   "source": [
    "# All Activities Analysis"
   ]
  },
  {
   "cell_type": "code",
   "execution_count": 8,
   "id": "774b1aee",
   "metadata": {},
   "outputs": [
    {
     "name": "stderr",
     "output_type": "stream",
     "text": [
      "/var/folders/c1/t3jl667j411f1m5w0w88hfj00000gn/T/ipykernel_86507/3482950584.py:2: FutureWarning: pandas.io.json.json_normalize is deprecated, use pandas.json_normalize instead\n",
      "  activities = json_normalize(my_dataset)\n"
     ]
    }
   ],
   "source": [
    "from pandas.io.json import json_normalize\n",
    "activities = json_normalize(dataset)\n",
    "activities_clean = activities.dropna(inplace=False, subset=['average_watts', 'average_heartrate'])"
   ]
  },
  {
   "cell_type": "code",
   "execution_count": null,
   "id": "05109a5d",
   "metadata": {},
   "outputs": [],
   "source": [
    "activities.to_csv('./data/activities.csv')\n",
    "activities_clean.to_csv('./data/activities_clean.csv')"
   ]
  },
  {
   "cell_type": "code",
   "execution_count": null,
   "id": "1c7c2fbe",
   "metadata": {},
   "outputs": [],
   "source": [
    "activities.columns"
   ]
  },
  {
   "cell_type": "code",
   "execution_count": null,
   "id": "7132508f",
   "metadata": {},
   "outputs": [],
   "source": [
    "fig, (ax1, ax2) = plt.subplots(1,2, figsize=(12,4))\n",
    "activities['distance'].plot(ax=ax1)\n",
    "activities['total_elevation_gain'].plot(ax=ax2)\n",
    "ax1.set_ylabel('Distance')\n",
    "ax1.set_xlabel('Activity ID')\n",
    "ax2.set_ylabel('Elevation')\n",
    "ax2.set_xlabel('Activity ID')"
   ]
  },
  {
   "cell_type": "code",
   "execution_count": null,
   "id": "e8ad8f98",
   "metadata": {},
   "outputs": [],
   "source": [
    "fig, ax = plt.subplots(figsize=(12,4))\n",
    "activities['average_watts'].plot(ax=ax)\n",
    "activities['average_heartrate'].plot(ax=ax)"
   ]
  },
  {
   "cell_type": "markdown",
   "id": "2c63d11c",
   "metadata": {},
   "source": [
    "### Average Watts Progression"
   ]
  },
  {
   "cell_type": "code",
   "execution_count": null,
   "id": "58e6db19",
   "metadata": {},
   "outputs": [],
   "source": [
    "df_watts = activities[['start_date_local', 'average_watts']].dropna(inplace=False)"
   ]
  },
  {
   "cell_type": "code",
   "execution_count": null,
   "id": "c166c5e2",
   "metadata": {},
   "outputs": [],
   "source": [
    "m, b = np.polyfit(x=np.arange(len(df_watts)),\n",
    "           y=df_watts['average_watts'],\n",
    "           deg=1)\n",
    "x = np.arange(len(df_watts))"
   ]
  },
  {
   "cell_type": "code",
   "execution_count": null,
   "id": "78f348e7",
   "metadata": {},
   "outputs": [],
   "source": [
    "fig, ax = plt.subplots(figsize=(12,4))\n",
    "df_watts['average_watts'].plot(ax=ax, marker='o')\n",
    "ax.plot(x, m*x + b, ls='--')\n",
    "df_watts['average_watts'].rolling(10, center=True).mean().plot(ax=ax, color='r')\n",
    "\n",
    "ax.set_xticks(np.arange(0, len(df_watts), 5))\n",
    "ax.set_xticklabels(df_watts['start_date_local'][np.arange(0, len(df_watts), 5)], rotation=90)\n",
    "plt.gca().invert_xaxis()\n",
    "plt.show()"
   ]
  },
  {
   "cell_type": "markdown",
   "id": "b31c7ad7",
   "metadata": {},
   "source": [
    "# Classify Ride Type"
   ]
  },
  {
   "cell_type": "code",
   "execution_count": null,
   "id": "5a0803b4",
   "metadata": {},
   "outputs": [],
   "source": [
    "zones = [0, 108, 143, 161, 178, 200]\n",
    "\n",
    "\n",
    "fig, ax = plt.subplots()\n",
    "ax.bar(x = np.array([0, 1, 2, 3, 4]),\n",
    "       height = np.histogram(activities['average_heartrate'], bins = zones)[0], \n",
    "       alpha=0.5)\n",
    "ax.set_xticks([0, 1, 2, 3, 4])\n",
    "ax.set_xticklabels(['z1', 'z2', 'z3', 'z4', 'z5'])\n",
    "plt.show()"
   ]
  },
  {
   "cell_type": "code",
   "execution_count": null,
   "id": "db951d49",
   "metadata": {},
   "outputs": [],
   "source": [
    "def hr_zone(x):\n",
    "    \n",
    "    if 0 < x <= 108:\n",
    "        zone = 'z1'\n",
    "    elif 108 < x <= 143:\n",
    "        zone = 'z2'\n",
    "    elif 143 < x <= 161:\n",
    "        zone = 'z3'\n",
    "    elif 161 < x <= 178:\n",
    "        zone = 'z4'\n",
    "    elif 178 < x <= 200:\n",
    "        zone = 'z5'\n",
    "    else:\n",
    "        return np.nan\n",
    "        \n",
    "    return zone"
   ]
  },
  {
   "cell_type": "code",
   "execution_count": null,
   "id": "4d92d8b2",
   "metadata": {},
   "outputs": [],
   "source": [
    "hr_zone = [hr_zone(x) for x in activities_clean['average_heartrate']]"
   ]
  },
  {
   "cell_type": "code",
   "execution_count": null,
   "id": "0389262e",
   "metadata": {},
   "outputs": [],
   "source": [
    "df_hr = activities_clean[['start_date_local', 'average_heartrate']]\n",
    "df_hr['hr_zone'] = hr_zone\n",
    "df_hr"
   ]
  },
  {
   "cell_type": "code",
   "execution_count": null,
   "id": "92363036",
   "metadata": {},
   "outputs": [],
   "source": [
    "colors = {'z1': 'lavender', 'z2': 'lightsteelblue', 'z3': 'mediumseagreen', 'z4': 'coral', 'z5': 'firebrick'}\n",
    "\n",
    "fig, ax = plt.subplots(figsize=(16,4))\n",
    "df_hr['average_heartrate'].plot(kind='bar', ax=ax, color=list(df_hr['hr_zone'].map(colors)))\n",
    "\n",
    "ax.set_xticks(np.arange(0, len(df_hr), 5))\n",
    "ax.set_xticklabels(df_hr['start_date_local'].reset_index(drop=True)[np.arange(0, len(df_hr), 5)], rotation=90)\n",
    "plt.gca().invert_xaxis()\n",
    "plt.show()"
   ]
  },
  {
   "cell_type": "markdown",
   "id": "f04b1569",
   "metadata": {},
   "source": [
    "# Classify Rider Type"
   ]
  },
  {
   "cell_type": "code",
   "execution_count": null,
   "id": "64bf8780",
   "metadata": {},
   "outputs": [],
   "source": []
  },
  {
   "cell_type": "code",
   "execution_count": null,
   "id": "26cfa8e6",
   "metadata": {},
   "outputs": [],
   "source": []
  },
  {
   "cell_type": "markdown",
   "id": "50a7a664",
   "metadata": {},
   "source": [
    "# Cumulative Time Spent In Zone"
   ]
  },
  {
   "cell_type": "markdown",
   "id": "0c4c1704",
   "metadata": {},
   "source": [
    "- cumulative time in zone per ride (stacked barchart)\n",
    "- cumulative time in zone for season (linechart)"
   ]
  },
  {
   "cell_type": "markdown",
   "id": "7ac8b712",
   "metadata": {},
   "source": [
    "- winter block, spring block, summer block, autumn block\n",
    "- arbitrary training blocks\n",
    "- yearly block"
   ]
  },
  {
   "cell_type": "markdown",
   "id": "e2a00a53",
   "metadata": {},
   "source": [
    "- heart rate time in zone\n",
    "- pwr time in zone\n",
    "- check for divergence -> training recommendations if divergence"
   ]
  },
  {
   "cell_type": "markdown",
   "id": "626bd248",
   "metadata": {},
   "source": [
    "### Save Data"
   ]
  },
  {
   "cell_type": "code",
   "execution_count": null,
   "id": "c7e74b9d",
   "metadata": {},
   "outputs": [],
   "source": [
    "def get_activity(activity_id, access_token):\n",
    "    \n",
    "    # use the activity API to get activity data\n",
    "    url = f'https://www.strava.com/api/v3/activities/{activity_id}?include_all_efforts=\" \"Authorization: Bearer {access_token}'\n",
    "    res = requests.get(url, headers=header, params=param).json()\n",
    "\n",
    "    return res\n",
    "\n",
    "def get_activity_data_streams(activity_id, access_token):\n",
    "    \n",
    "    # use the streams api to get heartrate and watts data\n",
    "    activity_url = f'https://www.strava.com/api/v3/activities/{activity_id}/streams?keys=watts,heartrate&key_by_type=\" \"Authorization: Bearer {access_token}'\n",
    "    res = requests.get(activity_url, headers=header, params=param).json()\n",
    "    \n",
    "    return res\n",
    "\n",
    "def save_activity_data(activity_id, activity_data, stream_data, path):\n",
    "    \n",
    "    # save activity data\n",
    "    with open(f'{path}/activities/activity_{activity_id}.json', 'w', encoding='utf-8') as f:\n",
    "        json.dump(activity_data, f, ensure_ascii=False, indent=4)\n",
    "       \n",
    "    # save stream data\n",
    "    df = pd.DataFrame()\n",
    "    df['heartrate'] = stream_data['heartrate']['data']\n",
    "    df['watts'] = stream_data['watts']['data']\n",
    "        \n",
    "    df.to_csv(f'{path}/streams/stream_{activity_id}.csv', index=False)"
   ]
  },
  {
   "cell_type": "code",
   "execution_count": null,
   "id": "2dcb561e",
   "metadata": {},
   "outputs": [],
   "source": [
    "for activity_id in activities['id'][40:80]:\n",
    "    \n",
    "    try:\n",
    "        activity_data = get_activity(activity_id, access_token)\n",
    "        stream_data = get_activity_data_streams(activity_id, access_token)\n",
    "        save_activity_data(activity_id, activity_data, stream_data, path='./data')\n",
    "    except KeyError as e:\n",
    "        continue"
   ]
  },
  {
   "cell_type": "markdown",
   "id": "6a2709d1",
   "metadata": {},
   "source": [
    "### Plot Cumulative Time In Zone for all Data"
   ]
  },
  {
   "cell_type": "code",
   "execution_count": 29,
   "id": "dccdbb8d",
   "metadata": {},
   "outputs": [],
   "source": [
    "def cumulative_time_in_zone(start_date, end_date, chart_style='bar'):\n",
    "    \n",
    "    time_in_zone_hr = []\n",
    "    time_in_zone_pwr = []\n",
    "    start_date_local = []\n",
    "\n",
    "    # set hr zones\n",
    "    hr_zones = [0, 108, 143, 161, 178, 200]\n",
    "    pwr_zones = [1, 163, 222, 267, 311, 356]\n",
    "\n",
    "    # read all stream data\n",
    "    for stream in glob.glob('./data/streams/*.csv'):\n",
    "\n",
    "        activity_id = stream.split('_')[-1].split('.')[0]\n",
    "        stream = pd.read_csv(stream)\n",
    "        time_in_zone_hr.append(np.histogram(stream['heartrate'], bins = hr_zones)[0])\n",
    "        time_in_zone_pwr.append(np.histogram(stream['watts'], bins = pwr_zones)[0])\n",
    "\n",
    "        with open(f'./data/activities/activity_{activity_id}.json') as f:\n",
    "            data = json.load(f)\n",
    "        start_date_local.append(data['start_date_local'])\n",
    "\n",
    "    # compute time_in_zone dataframe\n",
    "    df_time_in_zone_hr = pd.DataFrame(np.vstack(time_in_zone_hr),\n",
    "                                   columns=['z1', 'z2', 'z3', 'z4', 'z5'],\n",
    "                                   index=start_date_local).sort_index()\n",
    "    df_time_in_zone_pwr = pd.DataFrame(np.vstack(time_in_zone_pwr),\n",
    "                                   columns=['z1', 'z2', 'z3', 'z4', 'z5'],\n",
    "                                   index=start_date_local).sort_index()\n",
    "\n",
    "    # set index as datetime\n",
    "    df_time_in_zone_hr.index = pd.to_datetime(df_time_in_zone_hr.index)\n",
    "    df_time_in_zone_pwr.index = pd.to_datetime(df_time_in_zone_pwr.index)\n",
    "\n",
    "    # set mask for timeframe selection\n",
    "    mask = (df_time_in_zone_hr.index > start_date) & (df_time_in_zone_hr.index <= end_date)\n",
    "    mask = (df_time_in_zone_pwr.index > start_date) & (df_time_in_zone_pwr.index <= end_date)\n",
    "    \n",
    "    if chart_style == 'bar':\n",
    "        \n",
    "        # plot data\n",
    "        fig, (ax1, ax2) = plt.subplots(1, 2, figsize=(10,5))\n",
    "        df_time_in_zone_hr[mask].sum().T.plot(kind='bar',\n",
    "                               ax=ax1,\n",
    "                               color=['lavender', 'lightsteelblue', 'mediumseagreen', 'coral', 'firebrick'])\n",
    "        df_time_in_zone_pwr[mask].sum().T.plot(kind='bar',\n",
    "                               ax=ax1,\n",
    "                               color=['lavender', 'lightsteelblue', 'mediumseagreen', 'coral', 'firebrick'])\n",
    "        ax1.set_ylabel('Time in Zone [sec]')\n",
    "        ax1.set_xlabel(' ')\n",
    "        ax1.set_title(f'{start_date.strftime(\"%d/%m/%Y\")} to {end_date.strftime(\"%d/%m/%Y\")}')\n",
    "\n",
    "        df_time_in_zone_hr_pc = df_time_in_zone_hr[mask].sum()/df_time_in_zone_hr[mask].sum().sum()\n",
    "        df_time_in_zone_pwr_pc = df_time_in_zone_pwr[mask].sum()/df_time_in_zone_pwr[mask].sum().sum()\n",
    "\n",
    "        df_time_in_zone_hr_pc.T.plot(kind='bar',\n",
    "                                  ax=ax2,\n",
    "                                  color=['lavender', 'lightsteelblue', 'mediumseagreen', 'coral', 'firebrick'])\n",
    "        df_time_in_zone_pwr_pc.T.plot(kind='bar',\n",
    "                                  ax=ax2,\n",
    "                                  color=['lavender', 'lightsteelblue', 'mediumseagreen', 'coral', 'firebrick'])\n",
    "        ax2.set_ylabel('Time in Zone [%]')\n",
    "        ax2.set_title(f'{start_date.strftime(\"%d/%m/%Y\")} to {end_date.strftime(\"%d/%m/%Y\")}')\n",
    "        plt.show()\n",
    "    \n",
    "    elif chart_style == 'line':\n",
    "        \n",
    "        fig, ax = plt.subplots(figsize=(10,5))\n",
    "        df_time_in_zone_hr.cumsum().plot(ax=ax,\n",
    "                                      color=['lavender', 'lightsteelblue', 'mediumseagreen', 'coral', 'firebrick'])\n",
    "        df_time_in_zone_pwr.cumsum().plot(ax=ax,\n",
    "                                      color=['lavender', 'lightsteelblue', 'mediumseagreen', 'coral', 'firebrick'])\n",
    "        ax.set_title(f'{start_date.strftime(\"%d/%m/%Y\")} to {end_date.strftime(\"%d/%m/%Y\")}')\n",
    "        ax.set_ylabel('Time in Zone [sec]')\n",
    "        plt.show()"
   ]
  },
  {
   "cell_type": "code",
   "execution_count": 30,
   "id": "bb634fab",
   "metadata": {},
   "outputs": [
    {
     "data": {
      "image/png": "[encoded data removed]",
      "text/plain": [
       "<Figure size 720x360 with 2 Axes>"
      ]
     },
     "metadata": {
      "needs_background": "light"
     },
     "output_type": "display_data"
    }
   ],
   "source": [
    "cumulative_time_in_zone(pd.to_datetime('22/09/2021', utc=True),\n",
    "                        pd.to_datetime('21/12/2021', utc=True),\n",
    "                        chart_style='bar')"
   ]
  },
  {
   "cell_type": "code",
   "execution_count": 24,
   "id": "128052fc",
   "metadata": {},
   "outputs": [
    {
     "data": {
      "image/png": "[encoded data removed]",
      "text/plain": [
       "<Figure size 720x360 with 1 Axes>"
      ]
     },
     "metadata": {
      "needs_background": "light"
     },
     "output_type": "display_data"
    }
   ],
   "source": [
    "cumulative_time_in_zone(pd.to_datetime('22/09/2021', utc=True),\n",
    "                        pd.to_datetime('21/12/2021', utc=True),\n",
    "                        chart_style='line')"
   ]
  },
  {
   "cell_type": "markdown",
   "id": "cb21f781",
   "metadata": {},
   "source": [
    "### Plot Cumulative Time In Zone for each Ride"
   ]
  },
  {
   "cell_type": "code",
   "execution_count": 12,
   "id": "decb69a3",
   "metadata": {},
   "outputs": [],
   "source": [
    "def time_in_zone_per_ride(start_date, end_date):\n",
    "\n",
    "    time_in_zone = []\n",
    "    start_date_local = []\n",
    "    \n",
    "    # set hr zones\n",
    "    zones = [0, 108, 143, 161, 178, 200]\n",
    "\n",
    "    # read all stream data\n",
    "    for stream in glob.glob('./data/streams/*.csv'):\n",
    "\n",
    "        activity_id = stream.split('_')[-1].split('.')[0]\n",
    "        stream = pd.read_csv(stream)\n",
    "        time_in_zone.append(np.histogram(stream['heartrate'], bins = zones)[0])\n",
    "\n",
    "        with open(f'./data/activities/activity_{activity_id}.json') as f:\n",
    "            data = json.load(f)\n",
    "        start_date_local.append(data['start_date_local'])\n",
    "\n",
    "    # compute time_in_zone dataframe\n",
    "    df_time_in_zone = pd.DataFrame(np.vstack(time_in_zone),\n",
    "                                   columns=['z1', 'z2', 'z3', 'z4', 'z5'],\n",
    "                                   index=start_date_local).sort_index()\n",
    "    \n",
    "    # set index as datetime\n",
    "    df_time_in_zone.index = pd.to_datetime(df_time_in_zone.index)\n",
    "\n",
    "    # set mask for timeframe selection\n",
    "    mask = (df_time_in_zone.index > start_date) & (df_time_in_zone.index <= end_date)\n",
    "    \n",
    "    # plot data\n",
    "    fig, ax = plt.subplots(figsize=(12,5))\n",
    "    df_time_in_zone[mask].plot(kind='bar', ax=ax,\n",
    "                         stacked=True,\n",
    "                         color=['lavender', 'lightsteelblue', 'mediumseagreen', 'coral', 'firebrick'])\n",
    "\n",
    "    ax.set_ylabel('Time in Zone [sec]')\n",
    "    plt.legend(loc='upper right')\n",
    "    plt.title(f'{start_date.strftime(\"%d/%m/%Y\")} to {end_date.strftime(\"%d/%m/%Y\")}')\n",
    "    plt.show()"
   ]
  },
  {
   "cell_type": "markdown",
   "id": "27d9653f",
   "metadata": {},
   "source": [
    "### Seasonal Training Blocks"
   ]
  },
  {
   "cell_type": "code",
   "execution_count": 15,
   "id": "0eb68a9d",
   "metadata": {},
   "outputs": [],
   "source": [
    "# Winter 2021-2022\n",
    "#timeframe = [pd.to_datetime('21/12/2021', utc=True), pd.to_datetime('20/03/2022', utc=True)]\n",
    "\n",
    "# Spring 2022\n",
    "#timeframe = [pd.to_datetime('20/03/2022', utc=True), pd.to_datetime('21/06/2022', utc=True)]\n",
    "\n",
    "# Summer 2022\n",
    "#timeframe = [pd.to_datetime('21/06/2022', utc=True), pd.to_datetime('23/09/2022', utc=True)]\n",
    "\n",
    "# Autumn 2021\n",
    "timeframe = [pd.to_datetime('22/09/2021', utc=True), pd.to_datetime('21/12/2021', utc=True)]"
   ]
  },
  {
   "cell_type": "code",
   "execution_count": 16,
   "id": "6f583e88",
   "metadata": {},
   "outputs": [
    {
     "data": {
      "image/png": "[encoded data removed]",
      "text/plain": [
       "<Figure size 864x360 with 1 Axes>"
      ]
     },
     "metadata": {
      "needs_background": "light"
     },
     "output_type": "display_data"
    }
   ],
   "source": [
    "time_in_zone_per_ride(timeframe[0], timeframe[-1])"
   ]
  },
  {
   "cell_type": "code",
   "execution_count": null,
   "id": "514f06df",
   "metadata": {},
   "outputs": [],
   "source": []
  },
  {
   "cell_type": "markdown",
   "id": "8f35438a",
   "metadata": {},
   "source": [
    "# Activity Analysis"
   ]
  },
  {
   "cell_type": "code",
   "execution_count": null,
   "id": "8b3ec46b",
   "metadata": {},
   "outputs": [],
   "source": [
    "activity_url = f'https://www.strava.com/api/v3/activities/6518486319?include_all_efforts=\" \"Authorization: Bearer {access_token}'\n",
    "res = requests.get(activity_url, headers=header, params=param).json()"
   ]
  },
  {
   "cell_type": "code",
   "execution_count": null,
   "id": "78ad6789",
   "metadata": {},
   "outputs": [],
   "source": [
    "res"
   ]
  },
  {
   "cell_type": "code",
   "execution_count": null,
   "id": "80584192",
   "metadata": {},
   "outputs": [],
   "source": [
    "res.json().keys()"
   ]
  },
  {
   "cell_type": "code",
   "execution_count": null,
   "id": "8078805e",
   "metadata": {},
   "outputs": [],
   "source": [
    "activity_url = f'https://www.strava.com/api/v3/activities/6518486319/streams?keys=watts,heartrate&key_by_type=\" \"Authorization: Bearer {access_token}'\n",
    "res = requests.get(activity_url, headers=header, params=param).json()"
   ]
  },
  {
   "cell_type": "code",
   "execution_count": null,
   "id": "09425eef",
   "metadata": {},
   "outputs": [],
   "source": [
    "fig, ax = plt.subplots(figsize=(12,4))\n",
    "ax.plot(res['watts']['data'], label='watts')\n",
    "ax.plot(res['heartrate']['data'], label='heartrate')\n",
    "plt.legend()\n",
    "plt.show()"
   ]
  },
  {
   "cell_type": "code",
   "execution_count": null,
   "id": "389f52e7",
   "metadata": {},
   "outputs": [],
   "source": [
    "zones = [0, 108, 143, 161, 178, 200]"
   ]
  },
  {
   "cell_type": "code",
   "execution_count": null,
   "id": "c0644ad3",
   "metadata": {},
   "outputs": [],
   "source": [
    "np.histogram(res['heartrate']['data'], bins = zones)"
   ]
  },
  {
   "cell_type": "code",
   "execution_count": null,
   "id": "80b14b34",
   "metadata": {},
   "outputs": [],
   "source": [
    "fig, ax = plt.subplots()\n",
    "ax.bar(x = np.array([0, 1, 2, 3, 4]),\n",
    "       height = np.histogram(res['heartrate']['data'], bins = zones)[0], \n",
    "       alpha=0.5)\n",
    "ax.set_xticks([0, 1, 2, 3, 4])\n",
    "ax.set_xticklabels(['z1', 'z2', 'z3', 'z4', 'z5'])\n",
    "plt.show()"
   ]
  },
  {
   "cell_type": "code",
   "execution_count": null,
   "id": "8b09ef35",
   "metadata": {},
   "outputs": [],
   "source": []
  },
  {
   "cell_type": "markdown",
   "id": "84421b18",
   "metadata": {},
   "source": [
    "- filter activities to bike rides\n",
    "- clean data from NaN\n",
    "- regression/trendline/smoothing of average watts/distance/speed over time for progression\n",
    "- time in zones per year/month\n",
    "- time in zones and effect on training (?)\n",
    "- rider type classification (rouleur, puncheur, sprinter, climber, etc.)\n",
    "- workouts based on rider type classification\n",
    "- workouts to improve certain zones/characteristics\n",
    "- is workload/training adapted ? (check fatigue/hr/pwr after big workouts/weeks)"
   ]
  },
  {
   "cell_type": "code",
   "execution_count": null,
   "id": "e5fcb82e",
   "metadata": {},
   "outputs": [],
   "source": []
  }
 ],
 "metadata": {
  "kernelspec": {
   "display_name": "Python 3 (ipykernel)",
   "language": "python",
   "name": "python3"
  },
  "language_info": {
   "codemirror_mode": {
    "name": "ipython",
    "version": 3
   },
   "file_extension": ".py",
   "mimetype": "text/x-python",
   "name": "python",
   "nbconvert_exporter": "python",
   "pygments_lexer": "ipython3",
   "version": "3.9.7"
  }
 },
 "nbformat": 4,
 "nbformat_minor": 5
}
